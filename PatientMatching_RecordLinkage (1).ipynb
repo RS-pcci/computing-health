{
 "cells": [
  {
   "cell_type": "code",
   "execution_count": null,
   "metadata": {},
   "outputs": [],
   "source": [
    "pip install recordlinkage"
   ]
  },
  {
   "cell_type": "code",
   "execution_count": null,
   "metadata": {},
   "outputs": [],
   "source": [
    "import pandas as pd\n",
    "import recordlinkage\n",
    "\n",
    "phhs = pd.read_csv('data/Geocoded_Appointment_Data_RiskStratified_2020-04-11_05-05-03.csv')\n",
    "hhsc = pd.read_csv('data/geocoded_positive_puis_2020-04-10.csv')"
   ]
  },
  {
   "cell_type": "code",
   "execution_count": null,
   "metadata": {},
   "outputs": [],
   "source": [
    "phhs['DOB'] = pd.to_datetime(phhs['DOB'], errors='coerce')\n",
    "now = pd.to_datetime('now')\n",
    "phhs['Age'] = (now - phhs['DOB']).astype('<m8[Y]') "
   ]
  },
  {
   "cell_type": "code",
   "execution_count": null,
   "metadata": {},
   "outputs": [],
   "source": [
    "phhs.head()"
   ]
  },
  {
   "cell_type": "code",
   "execution_count": null,
   "metadata": {},
   "outputs": [],
   "source": [
    "'''#Filtering for only positive results\n",
    "is_abnormal = phhs['LR_ABNORMALITY'] == 'Abnormal'\n",
    "print(is_abnormal.head())\n",
    "phhs_abnormal = phhs[is_abnormal]\n",
    "print(phhs_abnormal.head())'''"
   ]
  },
  {
   "cell_type": "code",
   "execution_count": null,
   "metadata": {},
   "outputs": [],
   "source": [
    "'''# sorting by patient_mrn \n",
    "phhs_abnormal.sort_values(\"PATIENT_MRN\", inplace = True) \n",
    "  \n",
    "# dropping ALL duplicte values \n",
    "phhs_abnormal.drop_duplicates(subset =\"PATIENT_MRN\", \n",
    "                     keep = 'first', inplace = True) \n",
    "  \n",
    "# displaying phhs_abnormal\n",
    "phhs_abnormal'''"
   ]
  },
  {
   "cell_type": "code",
   "execution_count": null,
   "metadata": {},
   "outputs": [],
   "source": [
    "#Setting Index for phhs_abnormal\n",
    "phhs.set_index(\"EncounterEpicCsn\", inplace = True) "
   ]
  },
  {
   "cell_type": "code",
   "execution_count": null,
   "metadata": {},
   "outputs": [],
   "source": [
    "#Replacing Values in Column 'Sex'\n",
    "hhsc_copy = hhsc.replace(to_replace = \"F\",\n",
    "                  value = \"Female\")\n",
    "hhsc_copy = hhsc_copy.replace(to_replace = \"M\",\n",
    "                  value = \"Male\")\n",
    "print(hhsc_copy.head())"
   ]
  },
  {
   "cell_type": "code",
   "execution_count": null,
   "metadata": {},
   "outputs": [],
   "source": [
    "'''#Setting Index for hhsc_copy\n",
    "hhsc_copy.set_index(\"original_index\", inplace = True)'''"
   ]
  },
  {
   "cell_type": "code",
   "execution_count": null,
   "metadata": {},
   "outputs": [],
   "source": [
    "#Creating a full indexer object\n",
    "'''indexer = recordlinkage.Index()\n",
    "indexer.full()'''"
   ]
  },
  {
   "cell_type": "code",
   "execution_count": null,
   "metadata": {},
   "outputs": [],
   "source": [
    "#Creating an indexer object with block on state\n",
    "indexer = recordlinkage.Index()\n",
    "indexer.block(left_on='Sex', right_on='Sex')\n",
    "#building up all the potential pairs to check\n",
    "combinations = indexer.index(phhs, hhsc_copy)\n",
    "print(len(combinations))"
   ]
  },
  {
   "cell_type": "code",
   "execution_count": null,
   "metadata": {},
   "outputs": [],
   "source": [
    "#Defining the comparison logic\n",
    "compare = recordlinkage.Compare()\n",
    "compare.exact('Sex', 'Sex', label = 'Sex')\n",
    "compare.exact('Age', 'Age (Yrs) at presentation', label = 'Age')\n",
    "compare.string('geoaddress',\n",
    "               'geoaddress',\n",
    "            method='levenshtein',\n",
    "            threshold=0.95,\n",
    "            label = 'Address')"
   ]
  },
  {
   "cell_type": "code",
   "execution_count": null,
   "metadata": {},
   "outputs": [],
   "source": [
    "#performing all the feature comparisons using compute\n",
    "features = compare.compute(combinations, phhs, hhsc_copy)"
   ]
  },
  {
   "cell_type": "code",
   "execution_count": null,
   "metadata": {},
   "outputs": [],
   "source": [
    "#Creating an Indexer object with SortedNeighborhood to add some flexibility for minor spelling mistakes on State\n",
    "'''indexer = recordlinkage.Index()\n",
    "indexer.sortedneighbourhood(left_on='STATE', right_on='State')\n",
    "combinations = indexer.index(phhs_abnormal, hhsc_copy)\n",
    "print(len(combinations))'''"
   ]
  },
  {
   "cell_type": "code",
   "execution_count": null,
   "metadata": {},
   "outputs": [],
   "source": [
    "#checking for quality of the matches\n",
    "features.sum(axis=1).value_counts().sort_index(ascending=False)"
   ]
  },
  {
   "cell_type": "code",
   "execution_count": null,
   "metadata": {},
   "outputs": [],
   "source": [
    "#adding a total score\n",
    "potential_matches = features[features.sum(axis=1) >= 0].reset_index()\n",
    "potential_matches['Score'] = potential_matches.loc[:, 'Sex':'Address'].sum(axis=1)"
   ]
  },
  {
   "cell_type": "code",
   "execution_count": null,
   "metadata": {},
   "outputs": [],
   "source": [
    "#phhs_abnormal.loc[5162035,:]"
   ]
  },
  {
   "cell_type": "code",
   "execution_count": null,
   "metadata": {},
   "outputs": [],
   "source": [
    "#hhsc_copy.loc[29,:]"
   ]
  },
  {
   "cell_type": "code",
   "execution_count": null,
   "metadata": {},
   "outputs": [],
   "source": [
    "phhs_abnormal['PHHS_Lookup'] = phhs_abnormal[['Sex Global',\n",
    "    'ADD_LINE_1', 'CITY', 'STATE'\n",
    "]].apply(lambda x: '_'.join(x), axis=1)\n",
    "\n",
    "hhsc_copy['HHSC_Lookup'] = hhsc_copy[['Sex',\n",
    "    'Address', 'City', 'State' \n",
    "]].apply(lambda x: '_'.join(x), axis=1)\n"
   ]
  },
  {
   "cell_type": "code",
   "execution_count": null,
   "metadata": {},
   "outputs": [],
   "source": [
    "phhs_lookup = phhs_abnormal[['PHHS_Lookup']].reset_index()\n",
    "hhsc_lookup = hhsc_copy[['HHSC_Lookup']].reset_index()"
   ]
  },
  {
   "cell_type": "code",
   "execution_count": null,
   "metadata": {},
   "outputs": [],
   "source": [
    "phhs_merge = potential_matches.merge(phhs_lookup, how='left')"
   ]
  },
  {
   "cell_type": "code",
   "execution_count": null,
   "metadata": {},
   "outputs": [],
   "source": [
    "final_merge = phhs_merge.merge(hhsc_lookup, how='left')"
   ]
  },
  {
   "cell_type": "code",
   "execution_count": null,
   "metadata": {},
   "outputs": [],
   "source": [
    "'''cols = ['PATIENT_MRN', 'Score',\n",
    "        'PHHS_Lookup', 'HHSC_Lookup']\n",
    "final_merge[cols].sort_values(by=['PATIENT_MRN', 'Score'], ascending=False)'''"
   ]
  },
  {
   "cell_type": "code",
   "execution_count": null,
   "metadata": {},
   "outputs": [],
   "source": [
    "#final_merge[final_merge['PATIENT_MRN']==5162035][cols]"
   ]
  },
  {
   "cell_type": "code",
   "execution_count": null,
   "metadata": {},
   "outputs": [],
   "source": [
    "'''final_merge.sort_values(by=['PATIENT_MRN', 'Score'], \n",
    "                    ascending=False, inplace = True)\n",
    "final_merge.drop_duplicates(subset=['PATIENT_MRN'],\n",
    "                    keep = 'first', inplace = True)'''"
   ]
  },
  {
   "cell_type": "code",
   "execution_count": null,
   "metadata": {},
   "outputs": [],
   "source": [
    "'''s_maxes = final_merge.groupby(['PATIENT_MRN', 'Score']).Score.transform(max)\n",
    "final_merge = final_merge.loc[final_merge.Score == s_maxes]'''"
   ]
  },
  {
   "cell_type": "code",
   "execution_count": null,
   "metadata": {},
   "outputs": [],
   "source": [
    "final_merge"
   ]
  },
  {
   "cell_type": "code",
   "execution_count": null,
   "metadata": {},
   "outputs": [],
   "source": [
    "final_merge.to_csv('match_merge_list.csv', index=False)"
   ]
  },
  {
   "cell_type": "code",
   "execution_count": null,
   "metadata": {},
   "outputs": [],
   "source": []
  }
 ],
 "metadata": {
  "kernelspec": {
   "display_name": "Python 3",
   "language": "python",
   "name": "python3"
  },
  "language_info": {
   "codemirror_mode": {
    "name": "ipython",
    "version": 3
   },
   "file_extension": ".py",
   "mimetype": "text/x-python",
   "name": "python",
   "nbconvert_exporter": "python",
   "pygments_lexer": "ipython3",
   "version": "3.7.3"
  }
 },
 "nbformat": 4,
 "nbformat_minor": 2
}
