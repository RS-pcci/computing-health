{
 "cells": [
  {
   "cell_type": "code",
   "execution_count": null,
   "metadata": {},
   "outputs": [],
   "source": [
    "pip install fuzzywuzzy"
   ]
  },
  {
   "cell_type": "code",
   "execution_count": null,
   "metadata": {},
   "outputs": [],
   "source": [
    "pip install metaphone"
   ]
  },
  {
   "cell_type": "code",
   "execution_count": null,
   "metadata": {},
   "outputs": [],
   "source": [
    "pip install fuzzymatcher"
   ]
  },
  {
   "cell_type": "code",
   "execution_count": null,
   "metadata": {},
   "outputs": [],
   "source": [
    "import re"
   ]
  },
  {
   "cell_type": "code",
   "execution_count": null,
   "metadata": {},
   "outputs": [],
   "source": [
    "import pandas as pd\n",
    "import numpy as np\n",
    "import datetime as DT\n",
    "from datetime import date\n",
    "from pathlib import Path\n",
    "import fuzzymatcher"
   ]
  },
  {
   "cell_type": "code",
   "execution_count": null,
   "metadata": {},
   "outputs": [],
   "source": [
    "DATA_PATH = 'data'\n",
    "phhs = pd.read_csv(DATA_PATH + '/Geocoded_Appointment_Data_RiskStratified_2020-04-11_05-05-03.csv')\n",
    "hhsc = pd.read_csv(DATA_PATH + '/geocoded_positive_puis_2020-04-10.csv')"
   ]
  },
  {
   "cell_type": "code",
   "execution_count": null,
   "metadata": {},
   "outputs": [],
   "source": [
    "phhs['DOB'] = pd.to_datetime(phhs['DOB'], errors='coerce')\n",
    "now = pd.to_datetime('now')\n",
    "phhs['Age'] = (now - phhs['DOB']).astype('<m8[Y]') "
   ]
  },
  {
   "cell_type": "code",
   "execution_count": null,
   "metadata": {},
   "outputs": [],
   "source": [
    "phhs['Age']= phhs['Age'].astype(int)"
   ]
  },
  {
   "cell_type": "code",
   "execution_count": null,
   "metadata": {},
   "outputs": [],
   "source": [
    "hhsc_copy = hhsc.replace(to_replace = \"F\",\n",
    "                  value = \"Female\")"
   ]
  },
  {
   "cell_type": "code",
   "execution_count": null,
   "metadata": {},
   "outputs": [],
   "source": [
    "hhsc_copy = hhsc_copy.replace(to_replace = \"M\",\n",
    "                  value = \"Male\")"
   ]
  },
  {
   "cell_type": "code",
   "execution_count": null,
   "metadata": {},
   "outputs": [],
   "source": [
    "hhsc_copy['Age (Yrs) at presentation'] = hhsc_copy['Age (Yrs) at presentation'].map(lambda x:re.sub(r'\\W+', '',x))"
   ]
  },
  {
   "cell_type": "code",
   "execution_count": null,
   "metadata": {},
   "outputs": [],
   "source": [
    "hhsc_copy['Age (Yrs) at presentation'] = hhsc_copy['Age (Yrs) at presentation'].astype(int)"
   ]
  },
  {
   "cell_type": "code",
   "execution_count": null,
   "metadata": {},
   "outputs": [],
   "source": [
    "hhsc_copy['Age (Yrs) at presentation'].apply(type)"
   ]
  },
  {
   "cell_type": "code",
   "execution_count": null,
   "metadata": {},
   "outputs": [],
   "source": [
    "phhs['PHHS_Lookup'] = phhs[['geoaddress', 'Sex'\n",
    "]].apply(lambda x: '_'.join(x), axis=1)\n",
    "\n",
    "hhsc_copy['HHSC_Lookup'] = hhsc_copy[['geoaddress', 'Sex',\n",
    "]].apply(lambda x: '_'.join(x), axis=1)\n"
   ]
  },
  {
   "cell_type": "code",
   "execution_count": null,
   "metadata": {},
   "outputs": [],
   "source": [
    "left_on = [\"PHHS_Lookup\", \"Age\"]\n",
    "right_on = [\"HHSC_Lookup\", \"Age (Yrs) at presentation\"]"
   ]
  },
  {
   "cell_type": "code",
   "execution_count": null,
   "metadata": {},
   "outputs": [],
   "source": [
    "match_results = fuzzymatcher.fuzzy_left_join(phhs, \n",
    "                                             hhsc_copy, \n",
    "                                             left_on, \n",
    "                                             right_on)"
   ]
  },
  {
   "cell_type": "code",
   "execution_count": null,
   "metadata": {},
   "outputs": [],
   "source": [
    "match_results[['addnum_left','rest1']] = match_results.geoaddress_left.str.split(n=1,expand=True)"
   ]
  },
  {
   "cell_type": "code",
   "execution_count": null,
   "metadata": {},
   "outputs": [],
   "source": [
    "match_results[['addnum_right','rest2']] = match_results.geoaddress_right.str.split(n=1,expand=True)"
   ]
  },
  {
   "cell_type": "code",
   "execution_count": null,
   "metadata": {},
   "outputs": [],
   "source": [
    "match_results['addnum_left'] = match_results['addnum_left'].apply(pd.to_numeric, errors = 'coerce')"
   ]
  },
  {
   "cell_type": "code",
   "execution_count": null,
   "metadata": {},
   "outputs": [],
   "source": [
    "match_results ['addnum_right'] = match_results['addnum_right'].apply(pd.to_numeric, errors = 'coerce')"
   ]
  },
  {
   "cell_type": "code",
   "execution_count": null,
   "metadata": {},
   "outputs": [],
   "source": [
    "match_results['Match'] = np.select([(match_results['Age'] == match_results['Age (Yrs) at presentation']) & (match_results['best_match_score'] >= 0.8) & (match_results['Sex_left'] == match_results['Sex_right']) & (match_results['addnum_left'] == match_results['addnum_right'])]\n",
    "                     ,['Y'], default = 'N')"
   ]
  },
  {
   "cell_type": "code",
   "execution_count": null,
   "metadata": {},
   "outputs": [],
   "source": [
    "match_results = match_results[[\"MRN\", \"Match\", \"Specimen Collection Date\"\n",
    "]]"
   ]
  },
  {
   "cell_type": "code",
   "execution_count": null,
   "metadata": {},
   "outputs": [],
   "source": [
    "match_results.to_csv('data/match_results.csv', index = False)"
   ]
  },
  {
   "cell_type": "code",
   "execution_count": null,
   "metadata": {},
   "outputs": [],
   "source": []
  }
 ],
 "metadata": {
  "kernelspec": {
   "display_name": "Python 3",
   "language": "python",
   "name": "python3"
  },
  "language_info": {
   "codemirror_mode": {
    "name": "ipython",
    "version": 3
   },
   "file_extension": ".py",
   "mimetype": "text/x-python",
   "name": "python",
   "nbconvert_exporter": "python",
   "pygments_lexer": "ipython3",
   "version": "3.7.3"
  }
 },
 "nbformat": 4,
 "nbformat_minor": 2
}
